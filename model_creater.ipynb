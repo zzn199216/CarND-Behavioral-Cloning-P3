{
 "cells": [
  {
   "cell_type": "code",
   "execution_count": 1,
   "metadata": {
    "collapsed": true
   },
   "outputs": [],
   "source": [
    "import csv \n",
    "import cv2\n",
    "import numpy as np\n",
    "import pandas as pd"
   ]
  },
  {
   "cell_type": "code",
   "execution_count": 2,
   "metadata": {},
   "outputs": [
    {
     "data": {
      "text/plain": [
       "True"
      ]
     },
     "execution_count": 2,
     "metadata": {},
     "output_type": "execute_result"
    }
   ],
   "source": [
    "import tensorflow as tf\n",
    "tf.test.is_gpu_available()"
   ]
  },
  {
   "cell_type": "code",
   "execution_count": 3,
   "metadata": {},
   "outputs": [
    {
     "name": "stderr",
     "output_type": "stream",
     "text": [
      "Using TensorFlow backend.\n"
     ]
    }
   ],
   "source": [
    "from keras.models import Sequential\n",
    "from keras.layers import Flatten, Dense, Lambda, Cropping2D\n",
    "from keras.layers import Convolution2D\n",
    "from keras.layers.pooling import MaxPooling2D\n",
    "from keras.layers.core import Dropout"
   ]
  },
  {
   "cell_type": "code",
   "execution_count": 4,
   "metadata": {
    "collapsed": true
   },
   "outputs": [],
   "source": [
    "lines = []\n",
    "with open('data/driving_log.csv') as csvfile:\n",
    "    reader = csv.reader( csvfile )\n",
    "    for line in reader:\n",
    "        lines.append(line)"
   ]
  },
  {
   "cell_type": "code",
   "execution_count": 5,
   "metadata": {
    "collapsed": true
   },
   "outputs": [],
   "source": [
    "from sklearn.utils import shuffle\n",
    "\n",
    "folder =  './data/IMG/'\n",
    "correction = 0.2\n",
    "\n",
    "def generator(lines, batch_size=32):\n",
    "    num_samples = len(lines)\n",
    "    \n",
    "    while 1: # Loop forever so the generator never terminates\n",
    "        shuffle(lines)\n",
    "        for offset in range(0, num_samples, batch_size):\n",
    "            batch_samples = lines[offset:offset+batch_size]\n",
    "            images = []\n",
    "            measurements = []\n",
    "            \n",
    "            for batch_sample in batch_samples:\n",
    "                source_path = batch_sample[0]\n",
    "                measurement  = float( batch_sample[3] )\n",
    "                flipped_measurement = - measurement\n",
    "                \n",
    "                if correction == 0:\n",
    "                    pic_num = 1\n",
    "                else:\n",
    "                    pic_num = 3\n",
    "                \n",
    "                for i in range(pic_num):\n",
    "                    filename = source_path.split('\\\\')[-1]\n",
    "                    current_path = folder + filename\n",
    "                    image = cv2.imread(current_path)\n",
    "                    images.append( image )\n",
    "                    image_flipped = cv2.flip( image,1 )\n",
    "                    images.append(image_flipped)\n",
    "                \n",
    "                    if i==0:\n",
    "                        measurements.append(measurement)\n",
    "                        measurements.append(flipped_measurement)\n",
    "                    elif i==1:\n",
    "                        measurements.append(measurement+correction)\n",
    "                        measurements.append(flipped_measurement+correction)\n",
    "                    elif i==2 :\n",
    "                        measurements.append(measurement-correction)\n",
    "                        measurements.append(flipped_measurement-correction)\n",
    "                    \n",
    "            # trim image to only see section with road\n",
    "            X_train = np.array(images)\n",
    "            y_train = np.array(measurements)\n",
    "            yield shuffle(X_train, y_train)"
   ]
  },
  {
   "cell_type": "code",
   "execution_count": 6,
   "metadata": {
    "scrolled": false
   },
   "outputs": [
    {
     "name": "stderr",
     "output_type": "stream",
     "text": [
      "E:\\ProgramData\\Anaconda3\\envs\\carnd-term1\\lib\\site-packages\\ipykernel_launcher.py:16: UserWarning: Update your `Conv2D` call to the Keras 2 API: `Conv2D(24, (5, 5), activation=\"relu\", strides=(2, 2))`\n",
      "  app.launch_new_instance()\n",
      "E:\\ProgramData\\Anaconda3\\envs\\carnd-term1\\lib\\site-packages\\ipykernel_launcher.py:18: UserWarning: Update your `Conv2D` call to the Keras 2 API: `Conv2D(36, (5, 5), activation=\"relu\", strides=(2, 2))`\n",
      "E:\\ProgramData\\Anaconda3\\envs\\carnd-term1\\lib\\site-packages\\ipykernel_launcher.py:19: UserWarning: Update your `Conv2D` call to the Keras 2 API: `Conv2D(48, (5, 5), activation=\"relu\", strides=(2, 2))`\n",
      "E:\\ProgramData\\Anaconda3\\envs\\carnd-term1\\lib\\site-packages\\ipykernel_launcher.py:20: UserWarning: Update your `Conv2D` call to the Keras 2 API: `Conv2D(64, (3, 3), activation=\"relu\")`\n",
      "E:\\ProgramData\\Anaconda3\\envs\\carnd-term1\\lib\\site-packages\\ipykernel_launcher.py:21: UserWarning: Update your `Conv2D` call to the Keras 2 API: `Conv2D(64, (3, 3), activation=\"relu\")`\n",
      "E:\\ProgramData\\Anaconda3\\envs\\carnd-term1\\lib\\site-packages\\ipykernel_launcher.py:32: UserWarning: The semantics of the Keras 2 argument `steps_per_epoch` is not the same as the Keras 1 argument `samples_per_epoch`. `steps_per_epoch` is the number of batches to draw from the generator at each epoch. Basically steps_per_epoch = samples_per_epoch/batch_size. Similarly `nb_val_samples`->`validation_steps` and `val_samples`->`steps` arguments have changed. Update your method calls accordingly.\n",
      "E:\\ProgramData\\Anaconda3\\envs\\carnd-term1\\lib\\site-packages\\ipykernel_launcher.py:32: UserWarning: Update your `fit_generator` call to the Keras 2 API: `fit_generator(<generator..., steps_per_epoch=1605, validation_data=<generator..., validation_steps=688, epochs=3)`\n"
     ]
    },
    {
     "name": "stdout",
     "output_type": "stream",
     "text": [
      "Epoch 1/3\n",
      "1605/1605 [==============================] - 304s - loss: 0.0945 - val_loss: 0.1358\n",
      "Epoch 2/3\n",
      "1605/1605 [==============================] - 303s - loss: 0.0470 - val_loss: 0.1340\n",
      "Epoch 3/3\n",
      "1605/1605 [==============================] - 310s - loss: 0.0404 - val_loss: 0.1456\n",
      "finished!\n"
     ]
    }
   ],
   "source": [
    "# compile and train the model using the generator function\n",
    "from sklearn.model_selection import train_test_split\n",
    "train_samples, validation_samples = train_test_split(lines, test_size=0.3)\n",
    "train_generator = generator(train_samples, batch_size=32)\n",
    "validation_generator = generator(validation_samples, batch_size=32)\n",
    "\n",
    "input_shape=(160,320,3)\n",
    "\n",
    "#creat net\n",
    "model = Sequential()\n",
    "#normalize input\n",
    "model.add(Lambda(lambda x: (x / 255.0) - 0.5, input_shape=input_shape))\n",
    "#remove top and bottom part of the image as they are not relevant for the training\n",
    "\n",
    "model.add(Cropping2D(cropping=((25,10),(0,0))))\n",
    "model.add( Convolution2D(24,5,5, subsample=(2,2), activation=\"relu\") )\n",
    "model.add( Convolution2D(36,5,5, subsample=(2,2), activation=\"relu\") )\n",
    "model.add( Convolution2D(48,5,5, subsample=(2,2), activation=\"relu\") )\n",
    "model.add( Convolution2D(64,3,3,activation=\"relu\") )\n",
    "model.add( Convolution2D(64,3,3,activation=\"relu\") )\n",
    "model.add( Flatten() )\n",
    "model.add(Dense(100))\n",
    "model.add(Dense(50))\n",
    "model.add(Dense(10))\n",
    "model.add(Dense(1))\n",
    "\n",
    "\n",
    "model.compile(loss='mse', optimizer='adam')\n",
    "model.fit_generator(train_generator, samples_per_epoch=  len(train_samples), \n",
    "                    validation_data=validation_generator, nb_val_samples=len(validation_samples), \n",
    "                    nb_epoch=3 )\n",
    "\n",
    "model.save('model.h5')\n",
    "print('finished!')"
   ]
  },
  {
   "cell_type": "code",
   "execution_count": null,
   "metadata": {
    "collapsed": true
   },
   "outputs": [],
   "source": []
  },
  {
   "cell_type": "code",
   "execution_count": null,
   "metadata": {
    "collapsed": true
   },
   "outputs": [],
   "source": []
  }
 ],
 "metadata": {
  "kernelspec": {
   "display_name": "Python 3",
   "language": "python",
   "name": "python3"
  },
  "language_info": {
   "codemirror_mode": {
    "name": "ipython",
    "version": 3
   },
   "file_extension": ".py",
   "mimetype": "text/x-python",
   "name": "python",
   "nbconvert_exporter": "python",
   "pygments_lexer": "ipython3",
   "version": "3.5.2"
  },
  "widgets": {
   "state": {},
   "version": "1.1.2"
  }
 },
 "nbformat": 4,
 "nbformat_minor": 2
}
